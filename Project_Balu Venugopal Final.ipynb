{
 "cells": [
  {
   "cell_type": "markdown",
   "id": "d9895e26-f945-4c44-adb4-7b516bad1e29",
   "metadata": {},
   "source": [
    "### Project Title"
   ]
  },
  {
   "cell_type": "markdown",
   "id": "83a3ca68-70dc-445c-a4ef-77bed2349a62",
   "metadata": {},
   "source": [
    "#### A study conducted to identify trends in products, peak hours, and customer behavior to inform strategies for increasing sales and profit in a cafe."
   ]
  },
  {
   "cell_type": "markdown",
   "id": "b70cc719-b2de-47ae-9b28-ece765478cf2",
   "metadata": {},
   "source": [
    "### Aim"
   ]
  },
  {
   "cell_type": "markdown",
   "id": "12e05d79-989e-45c1-91a1-7a8be33155fe",
   "metadata": {},
   "source": [
    "#### 1. To identify the trends in Products with more sales\n",
    "#### 2. To identify the peak hours of a cafe.\n",
    "#### 3. To identify the behavioural pattern of customers\n"
   ]
  },
  {
   "cell_type": "markdown",
   "id": "9beae1e8-2aca-4d98-afe7-5467baf0c58d",
   "metadata": {},
   "source": [
    "### Problem Definition and DataSet Selection"
   ]
  },
  {
   "cell_type": "markdown",
   "id": "e2204f6e-997a-4b15-998e-159dd4cc941f",
   "metadata": {},
   "source": [
    "#### India’s cafe industry is booming, attributable to an increasing middle class, urban expansion, and a culture of coffee and tea drinking.But due to tight competition, footfalls in a cafe based in Kerala is declining and affecting its profit margin. So under this circumstances, I take this opportunity to study above the trends in products, identify peak hours of a cafe, helping cafe to identify the beahvioural pattern of customers. Data set was collected from Kaggle.com which contains the data of 10000 customers in Kerala. The questionnaire contains 8 questionsand the insights of the data-set(size of 537kb) can be used for improving the sales of cafe."
   ]
  },
  {
   "cell_type": "code",
   "execution_count": 6,
   "id": "129a7b52-deef-47db-80a4-2603f635461f",
   "metadata": {},
   "outputs": [],
   "source": [
    "import pandas as pd\n",
    "import numpy as np\n",
    "import matplotlib.pyplot as plt\n",
    "import seaborn as sns"
   ]
  },
  {
   "cell_type": "code",
   "execution_count": 7,
   "id": "539eb98d-75a1-45c4-b16a-81136609b05a",
   "metadata": {},
   "outputs": [
    {
     "name": "stdout",
     "output_type": "stream",
     "text": [
      "     Transaction ID      Item Quantity Price Per Unit Total Spent  \\\n",
      "0       TXN_1961373    Coffee        2            2.0         4.0   \n",
      "1       TXN_4977031      Cake        4            3.0        12.0   \n",
      "2       TXN_4271903    Cookie        4            1.0       ERROR   \n",
      "3       TXN_7034554     Salad        2            5.0        10.0   \n",
      "4       TXN_3160411    Coffee        2            2.0         4.0   \n",
      "...             ...       ...      ...            ...         ...   \n",
      "9995    TXN_7672686    Coffee        2            2.0         4.0   \n",
      "9996    TXN_9659401       NaN        3            NaN         3.0   \n",
      "9997    TXN_5255387    Coffee        4            2.0         8.0   \n",
      "9998    TXN_7695629    Cookie        3            NaN         3.0   \n",
      "9999    TXN_6170729  Sandwich        3            4.0        12.0   \n",
      "\n",
      "      Payment Method  Location Transaction Date  \n",
      "0        Credit Card  Takeaway       2023-09-08  \n",
      "1               Cash  In-store       2023-05-16  \n",
      "2        Credit Card  In-store       2023-07-19  \n",
      "3            UNKNOWN   UNKNOWN       2023-04-27  \n",
      "4     Digital Wallet  In-store       2023-06-11  \n",
      "...              ...       ...              ...  \n",
      "9995             NaN   UNKNOWN       2023-08-30  \n",
      "9996  Digital Wallet       NaN       2023-06-02  \n",
      "9997  Digital Wallet       NaN       2023-03-02  \n",
      "9998  Digital Wallet       NaN       2023-12-02  \n",
      "9999            Cash  In-store       2023-11-07  \n",
      "\n",
      "[10000 rows x 8 columns]\n"
     ]
    }
   ],
   "source": [
    "df = pd.read_csv(\"D:\\Python\\Project\\Project 2\\Cafe Sales.csv\")\n",
    "print(df)"
   ]
  },
  {
   "cell_type": "code",
   "execution_count": 8,
   "id": "d259994a-dcfa-4b0e-99e9-f050f6106172",
   "metadata": {},
   "outputs": [
    {
     "name": "stdout",
     "output_type": "stream",
     "text": [
      "Number of rows: 10000\n",
      "Number of Columns: 8\n"
     ]
    }
   ],
   "source": [
    "num_rows= len(df)\n",
    "num_columns= len(df.columns)\n",
    "print(f\"Number of rows: {num_rows}\")\n",
    "print(f\"Number of Columns: {num_columns}\")"
   ]
  },
  {
   "cell_type": "code",
   "execution_count": 9,
   "id": "d8070e8d-6d8d-4fff-9051-4fd672ccd42b",
   "metadata": {},
   "outputs": [
    {
     "name": "stdout",
     "output_type": "stream",
     "text": [
      "Datatype of all columns: Transaction ID      object\n",
      "Item                object\n",
      "Quantity            object\n",
      "Price Per Unit      object\n",
      "Total Spent         object\n",
      "Payment Method      object\n",
      "Location            object\n",
      "Transaction Date    object\n",
      "dtype: object\n"
     ]
    }
   ],
   "source": [
    "all_dtypes = df.dtypes\n",
    "print(f\"Datatype of all columns: {all_dtypes}\")"
   ]
  },
  {
   "cell_type": "code",
   "execution_count": 10,
   "id": "443f3ec5-755f-44c3-b955-2e384ff43af6",
   "metadata": {},
   "outputs": [
    {
     "data": {
      "text/html": [
       "<div>\n",
       "<style scoped>\n",
       "    .dataframe tbody tr th:only-of-type {\n",
       "        vertical-align: middle;\n",
       "    }\n",
       "\n",
       "    .dataframe tbody tr th {\n",
       "        vertical-align: top;\n",
       "    }\n",
       "\n",
       "    .dataframe thead th {\n",
       "        text-align: right;\n",
       "    }\n",
       "</style>\n",
       "<table border=\"1\" class=\"dataframe\">\n",
       "  <thead>\n",
       "    <tr style=\"text-align: right;\">\n",
       "      <th></th>\n",
       "      <th>Transaction ID</th>\n",
       "      <th>Item</th>\n",
       "      <th>Quantity</th>\n",
       "      <th>Price Per Unit</th>\n",
       "      <th>Total Spent</th>\n",
       "      <th>Payment Method</th>\n",
       "      <th>Location</th>\n",
       "      <th>Transaction Date</th>\n",
       "    </tr>\n",
       "  </thead>\n",
       "  <tbody>\n",
       "    <tr>\n",
       "      <th>0</th>\n",
       "      <td>TXN_1961373</td>\n",
       "      <td>Coffee</td>\n",
       "      <td>2</td>\n",
       "      <td>2.0</td>\n",
       "      <td>4.0</td>\n",
       "      <td>Credit Card</td>\n",
       "      <td>Takeaway</td>\n",
       "      <td>2023-09-08</td>\n",
       "    </tr>\n",
       "    <tr>\n",
       "      <th>1</th>\n",
       "      <td>TXN_4977031</td>\n",
       "      <td>Cake</td>\n",
       "      <td>4</td>\n",
       "      <td>3.0</td>\n",
       "      <td>12.0</td>\n",
       "      <td>Cash</td>\n",
       "      <td>In-store</td>\n",
       "      <td>2023-05-16</td>\n",
       "    </tr>\n",
       "    <tr>\n",
       "      <th>2</th>\n",
       "      <td>TXN_4271903</td>\n",
       "      <td>Cookie</td>\n",
       "      <td>4</td>\n",
       "      <td>1.0</td>\n",
       "      <td>ERROR</td>\n",
       "      <td>Credit Card</td>\n",
       "      <td>In-store</td>\n",
       "      <td>2023-07-19</td>\n",
       "    </tr>\n",
       "    <tr>\n",
       "      <th>3</th>\n",
       "      <td>TXN_7034554</td>\n",
       "      <td>Salad</td>\n",
       "      <td>2</td>\n",
       "      <td>5.0</td>\n",
       "      <td>10.0</td>\n",
       "      <td>UNKNOWN</td>\n",
       "      <td>UNKNOWN</td>\n",
       "      <td>2023-04-27</td>\n",
       "    </tr>\n",
       "    <tr>\n",
       "      <th>4</th>\n",
       "      <td>TXN_3160411</td>\n",
       "      <td>Coffee</td>\n",
       "      <td>2</td>\n",
       "      <td>2.0</td>\n",
       "      <td>4.0</td>\n",
       "      <td>Digital Wallet</td>\n",
       "      <td>In-store</td>\n",
       "      <td>2023-06-11</td>\n",
       "    </tr>\n",
       "  </tbody>\n",
       "</table>\n",
       "</div>"
      ],
      "text/plain": [
       "  Transaction ID    Item Quantity Price Per Unit Total Spent  Payment Method  \\\n",
       "0    TXN_1961373  Coffee        2            2.0         4.0     Credit Card   \n",
       "1    TXN_4977031    Cake        4            3.0        12.0            Cash   \n",
       "2    TXN_4271903  Cookie        4            1.0       ERROR     Credit Card   \n",
       "3    TXN_7034554   Salad        2            5.0        10.0         UNKNOWN   \n",
       "4    TXN_3160411  Coffee        2            2.0         4.0  Digital Wallet   \n",
       "\n",
       "   Location Transaction Date  \n",
       "0  Takeaway       2023-09-08  \n",
       "1  In-store       2023-05-16  \n",
       "2  In-store       2023-07-19  \n",
       "3   UNKNOWN       2023-04-27  \n",
       "4  In-store       2023-06-11  "
      ]
     },
     "execution_count": 10,
     "metadata": {},
     "output_type": "execute_result"
    }
   ],
   "source": [
    "df.head()"
   ]
  },
  {
   "cell_type": "code",
   "execution_count": 11,
   "id": "c43be105-ec2f-476b-beec-c7fd50e85c87",
   "metadata": {},
   "outputs": [
    {
     "data": {
      "text/html": [
       "<div>\n",
       "<style scoped>\n",
       "    .dataframe tbody tr th:only-of-type {\n",
       "        vertical-align: middle;\n",
       "    }\n",
       "\n",
       "    .dataframe tbody tr th {\n",
       "        vertical-align: top;\n",
       "    }\n",
       "\n",
       "    .dataframe thead th {\n",
       "        text-align: right;\n",
       "    }\n",
       "</style>\n",
       "<table border=\"1\" class=\"dataframe\">\n",
       "  <thead>\n",
       "    <tr style=\"text-align: right;\">\n",
       "      <th></th>\n",
       "      <th>Transaction ID</th>\n",
       "      <th>Item</th>\n",
       "      <th>Quantity</th>\n",
       "      <th>Price Per Unit</th>\n",
       "      <th>Total Spent</th>\n",
       "      <th>Payment Method</th>\n",
       "      <th>Location</th>\n",
       "      <th>Transaction Date</th>\n",
       "    </tr>\n",
       "  </thead>\n",
       "  <tbody>\n",
       "    <tr>\n",
       "      <th>9995</th>\n",
       "      <td>TXN_7672686</td>\n",
       "      <td>Coffee</td>\n",
       "      <td>2</td>\n",
       "      <td>2.0</td>\n",
       "      <td>4.0</td>\n",
       "      <td>NaN</td>\n",
       "      <td>UNKNOWN</td>\n",
       "      <td>2023-08-30</td>\n",
       "    </tr>\n",
       "    <tr>\n",
       "      <th>9996</th>\n",
       "      <td>TXN_9659401</td>\n",
       "      <td>NaN</td>\n",
       "      <td>3</td>\n",
       "      <td>NaN</td>\n",
       "      <td>3.0</td>\n",
       "      <td>Digital Wallet</td>\n",
       "      <td>NaN</td>\n",
       "      <td>2023-06-02</td>\n",
       "    </tr>\n",
       "    <tr>\n",
       "      <th>9997</th>\n",
       "      <td>TXN_5255387</td>\n",
       "      <td>Coffee</td>\n",
       "      <td>4</td>\n",
       "      <td>2.0</td>\n",
       "      <td>8.0</td>\n",
       "      <td>Digital Wallet</td>\n",
       "      <td>NaN</td>\n",
       "      <td>2023-03-02</td>\n",
       "    </tr>\n",
       "    <tr>\n",
       "      <th>9998</th>\n",
       "      <td>TXN_7695629</td>\n",
       "      <td>Cookie</td>\n",
       "      <td>3</td>\n",
       "      <td>NaN</td>\n",
       "      <td>3.0</td>\n",
       "      <td>Digital Wallet</td>\n",
       "      <td>NaN</td>\n",
       "      <td>2023-12-02</td>\n",
       "    </tr>\n",
       "    <tr>\n",
       "      <th>9999</th>\n",
       "      <td>TXN_6170729</td>\n",
       "      <td>Sandwich</td>\n",
       "      <td>3</td>\n",
       "      <td>4.0</td>\n",
       "      <td>12.0</td>\n",
       "      <td>Cash</td>\n",
       "      <td>In-store</td>\n",
       "      <td>2023-11-07</td>\n",
       "    </tr>\n",
       "  </tbody>\n",
       "</table>\n",
       "</div>"
      ],
      "text/plain": [
       "     Transaction ID      Item Quantity Price Per Unit Total Spent  \\\n",
       "9995    TXN_7672686    Coffee        2            2.0         4.0   \n",
       "9996    TXN_9659401       NaN        3            NaN         3.0   \n",
       "9997    TXN_5255387    Coffee        4            2.0         8.0   \n",
       "9998    TXN_7695629    Cookie        3            NaN         3.0   \n",
       "9999    TXN_6170729  Sandwich        3            4.0        12.0   \n",
       "\n",
       "      Payment Method  Location Transaction Date  \n",
       "9995             NaN   UNKNOWN       2023-08-30  \n",
       "9996  Digital Wallet       NaN       2023-06-02  \n",
       "9997  Digital Wallet       NaN       2023-03-02  \n",
       "9998  Digital Wallet       NaN       2023-12-02  \n",
       "9999            Cash  In-store       2023-11-07  "
      ]
     },
     "execution_count": 11,
     "metadata": {},
     "output_type": "execute_result"
    }
   ],
   "source": [
    "df.tail()"
   ]
  },
  {
   "cell_type": "code",
   "execution_count": 12,
   "id": "518edec6-32c1-44c3-a2c9-4a2dcaa47286",
   "metadata": {},
   "outputs": [
    {
     "name": "stdout",
     "output_type": "stream",
     "text": [
      "<class 'pandas.core.frame.DataFrame'>\n",
      "RangeIndex: 10000 entries, 0 to 9999\n",
      "Data columns (total 8 columns):\n",
      " #   Column            Non-Null Count  Dtype \n",
      "---  ------            --------------  ----- \n",
      " 0   Transaction ID    10000 non-null  object\n",
      " 1   Item              9667 non-null   object\n",
      " 2   Quantity          9862 non-null   object\n",
      " 3   Price Per Unit    9821 non-null   object\n",
      " 4   Total Spent       9827 non-null   object\n",
      " 5   Payment Method    7421 non-null   object\n",
      " 6   Location          6735 non-null   object\n",
      " 7   Transaction Date  9841 non-null   object\n",
      "dtypes: object(8)\n",
      "memory usage: 625.1+ KB\n"
     ]
    }
   ],
   "source": [
    "df.info()"
   ]
  },
  {
   "cell_type": "code",
   "execution_count": 13,
   "id": "7127389d-b7ae-4660-90a5-a2d1a793019d",
   "metadata": {},
   "outputs": [
    {
     "data": {
      "text/html": [
       "<div>\n",
       "<style scoped>\n",
       "    .dataframe tbody tr th:only-of-type {\n",
       "        vertical-align: middle;\n",
       "    }\n",
       "\n",
       "    .dataframe tbody tr th {\n",
       "        vertical-align: top;\n",
       "    }\n",
       "\n",
       "    .dataframe thead th {\n",
       "        text-align: right;\n",
       "    }\n",
       "</style>\n",
       "<table border=\"1\" class=\"dataframe\">\n",
       "  <thead>\n",
       "    <tr style=\"text-align: right;\">\n",
       "      <th></th>\n",
       "      <th>Transaction ID</th>\n",
       "      <th>Item</th>\n",
       "      <th>Quantity</th>\n",
       "      <th>Price Per Unit</th>\n",
       "      <th>Total Spent</th>\n",
       "      <th>Payment Method</th>\n",
       "      <th>Location</th>\n",
       "      <th>Transaction Date</th>\n",
       "    </tr>\n",
       "  </thead>\n",
       "  <tbody>\n",
       "    <tr>\n",
       "      <th>count</th>\n",
       "      <td>10000</td>\n",
       "      <td>9667</td>\n",
       "      <td>9862</td>\n",
       "      <td>9821</td>\n",
       "      <td>9827</td>\n",
       "      <td>7421</td>\n",
       "      <td>6735</td>\n",
       "      <td>9841</td>\n",
       "    </tr>\n",
       "    <tr>\n",
       "      <th>unique</th>\n",
       "      <td>10000</td>\n",
       "      <td>10</td>\n",
       "      <td>7</td>\n",
       "      <td>8</td>\n",
       "      <td>19</td>\n",
       "      <td>5</td>\n",
       "      <td>4</td>\n",
       "      <td>367</td>\n",
       "    </tr>\n",
       "    <tr>\n",
       "      <th>top</th>\n",
       "      <td>TXN_9226047</td>\n",
       "      <td>Juice</td>\n",
       "      <td>5</td>\n",
       "      <td>3.0</td>\n",
       "      <td>6.0</td>\n",
       "      <td>Digital Wallet</td>\n",
       "      <td>Takeaway</td>\n",
       "      <td>UNKNOWN</td>\n",
       "    </tr>\n",
       "    <tr>\n",
       "      <th>freq</th>\n",
       "      <td>1</td>\n",
       "      <td>1171</td>\n",
       "      <td>2013</td>\n",
       "      <td>2429</td>\n",
       "      <td>979</td>\n",
       "      <td>2291</td>\n",
       "      <td>3022</td>\n",
       "      <td>159</td>\n",
       "    </tr>\n",
       "  </tbody>\n",
       "</table>\n",
       "</div>"
      ],
      "text/plain": [
       "       Transaction ID   Item Quantity Price Per Unit Total Spent  \\\n",
       "count           10000   9667     9862           9821        9827   \n",
       "unique          10000     10        7              8          19   \n",
       "top       TXN_9226047  Juice        5            3.0         6.0   \n",
       "freq                1   1171     2013           2429         979   \n",
       "\n",
       "        Payment Method  Location Transaction Date  \n",
       "count             7421      6735             9841  \n",
       "unique               5         4              367  \n",
       "top     Digital Wallet  Takeaway          UNKNOWN  \n",
       "freq              2291      3022              159  "
      ]
     },
     "execution_count": 13,
     "metadata": {},
     "output_type": "execute_result"
    }
   ],
   "source": [
    "df.describe()"
   ]
  },
  {
   "cell_type": "markdown",
   "id": "0856a33a-0a53-411c-b0cc-03d733f7b627",
   "metadata": {},
   "source": [
    "### Data Cleaning & PreProcessing"
   ]
  },
  {
   "cell_type": "code",
   "execution_count": 14,
   "id": "a93e8f44-c133-45aa-a979-abc0ea8cec0d",
   "metadata": {},
   "outputs": [
    {
     "name": "stdout",
     "output_type": "stream",
     "text": [
      "Transaction ID         0\n",
      "Item                 969\n",
      "Quantity             479\n",
      "Price Per Unit       533\n",
      "Total Spent          502\n",
      "Payment Method      3178\n",
      "Location            3961\n",
      "Transaction Date     460\n",
      "dtype: int64\n"
     ]
    }
   ],
   "source": [
    "# Copy original dataframe\n",
    "df_clean = df.copy()\n",
    "\n",
    "# 1. Replace invalid placeholders\n",
    "df_clean.replace(\"UNKNOWN\", np.nan, inplace=True)\n",
    "df_clean.replace(\"ERROR\", np.nan, inplace=True)\n",
    "\n",
    "# 2. Convert numeric columns to float\n",
    "for col in [\"Quantity\", \"Price Per Unit\", \"Total Spent\"]:\n",
    "    df_clean[col] = pd.to_numeric(df_clean[col], errors=\"coerce\")\n",
    "\n",
    "# 3. Convert Transaction Date to datetime\n",
    "df_clean[\"Transaction Date\"] = pd.to_datetime(df_clean[\"Transaction Date\"], errors=\"coerce\")\n",
    "\n",
    "# 4. Strip whitespace from column names\n",
    "df_clean.columns = df_clean.columns.str.strip()\n",
    "\n",
    "# 5. Summary of missing values after cleaning\n",
    "missing_summary = df_clean.isnull().sum()\n",
    "print(missing_summary)"
   ]
  },
  {
   "cell_type": "code",
   "execution_count": 15,
   "id": "0baeff48-6456-4a8a-b9fb-4e69c8ad34a1",
   "metadata": {},
   "outputs": [
    {
     "name": "stdout",
     "output_type": "stream",
     "text": [
      "     Transaction ID      Item  Quantity  Price Per Unit  Total Spent  \\\n",
      "0       TXN_1961373    Coffee       2.0             2.0          4.0   \n",
      "1       TXN_4977031      Cake       4.0             3.0         12.0   \n",
      "2       TXN_4271903    Cookie       4.0             1.0          NaN   \n",
      "3       TXN_7034554     Salad       2.0             5.0         10.0   \n",
      "4       TXN_3160411    Coffee       2.0             2.0          4.0   \n",
      "...             ...       ...       ...             ...          ...   \n",
      "9995    TXN_7672686    Coffee       2.0             2.0          4.0   \n",
      "9996    TXN_9659401       NaN       3.0             NaN          3.0   \n",
      "9997    TXN_5255387    Coffee       4.0             2.0          8.0   \n",
      "9998    TXN_7695629    Cookie       3.0             NaN          3.0   \n",
      "9999    TXN_6170729  Sandwich       3.0             4.0         12.0   \n",
      "\n",
      "      Payment Method  Location Transaction Date  \n",
      "0        Credit Card  Takeaway       2023-09-08  \n",
      "1               Cash  In-store       2023-05-16  \n",
      "2        Credit Card  In-store       2023-07-19  \n",
      "3                NaN       NaN       2023-04-27  \n",
      "4     Digital Wallet  In-store       2023-06-11  \n",
      "...              ...       ...              ...  \n",
      "9995             NaN       NaN       2023-08-30  \n",
      "9996  Digital Wallet       NaN       2023-06-02  \n",
      "9997  Digital Wallet       NaN       2023-03-02  \n",
      "9998  Digital Wallet       NaN       2023-12-02  \n",
      "9999            Cash  In-store       2023-11-07  \n",
      "\n",
      "[10000 rows x 8 columns]\n"
     ]
    }
   ],
   "source": [
    "print(df_clean)"
   ]
  },
  {
   "cell_type": "code",
   "execution_count": 16,
   "id": "103bcc92-b4f7-4761-9ee5-8cab856d4b4f",
   "metadata": {},
   "outputs": [],
   "source": [
    "df = df_clean.copy()"
   ]
  },
  {
   "cell_type": "code",
   "execution_count": 17,
   "id": "f3a065ed-a939-4601-ad59-50135a6198cb",
   "metadata": {},
   "outputs": [
    {
     "data": {
      "text/html": [
       "<div>\n",
       "<style scoped>\n",
       "    .dataframe tbody tr th:only-of-type {\n",
       "        vertical-align: middle;\n",
       "    }\n",
       "\n",
       "    .dataframe tbody tr th {\n",
       "        vertical-align: top;\n",
       "    }\n",
       "\n",
       "    .dataframe thead th {\n",
       "        text-align: right;\n",
       "    }\n",
       "</style>\n",
       "<table border=\"1\" class=\"dataframe\">\n",
       "  <thead>\n",
       "    <tr style=\"text-align: right;\">\n",
       "      <th></th>\n",
       "      <th>Quantity</th>\n",
       "      <th>Price Per Unit</th>\n",
       "      <th>Total Spent</th>\n",
       "      <th>Transaction Date</th>\n",
       "    </tr>\n",
       "  </thead>\n",
       "  <tbody>\n",
       "    <tr>\n",
       "      <th>count</th>\n",
       "      <td>9521.000000</td>\n",
       "      <td>9467.000000</td>\n",
       "      <td>9498.000000</td>\n",
       "      <td>9540</td>\n",
       "    </tr>\n",
       "    <tr>\n",
       "      <th>mean</th>\n",
       "      <td>3.028463</td>\n",
       "      <td>2.949984</td>\n",
       "      <td>8.924352</td>\n",
       "      <td>2023-07-01 23:00:31.698113280</td>\n",
       "    </tr>\n",
       "    <tr>\n",
       "      <th>min</th>\n",
       "      <td>1.000000</td>\n",
       "      <td>1.000000</td>\n",
       "      <td>1.000000</td>\n",
       "      <td>2023-01-01 00:00:00</td>\n",
       "    </tr>\n",
       "    <tr>\n",
       "      <th>25%</th>\n",
       "      <td>2.000000</td>\n",
       "      <td>2.000000</td>\n",
       "      <td>4.000000</td>\n",
       "      <td>2023-04-01 00:00:00</td>\n",
       "    </tr>\n",
       "    <tr>\n",
       "      <th>50%</th>\n",
       "      <td>3.000000</td>\n",
       "      <td>3.000000</td>\n",
       "      <td>8.000000</td>\n",
       "      <td>2023-07-02 00:00:00</td>\n",
       "    </tr>\n",
       "    <tr>\n",
       "      <th>75%</th>\n",
       "      <td>4.000000</td>\n",
       "      <td>4.000000</td>\n",
       "      <td>12.000000</td>\n",
       "      <td>2023-10-02 00:00:00</td>\n",
       "    </tr>\n",
       "    <tr>\n",
       "      <th>max</th>\n",
       "      <td>5.000000</td>\n",
       "      <td>5.000000</td>\n",
       "      <td>25.000000</td>\n",
       "      <td>2023-12-31 00:00:00</td>\n",
       "    </tr>\n",
       "    <tr>\n",
       "      <th>std</th>\n",
       "      <td>1.419007</td>\n",
       "      <td>1.278450</td>\n",
       "      <td>6.009919</td>\n",
       "      <td>NaN</td>\n",
       "    </tr>\n",
       "  </tbody>\n",
       "</table>\n",
       "</div>"
      ],
      "text/plain": [
       "          Quantity  Price Per Unit  Total Spent               Transaction Date\n",
       "count  9521.000000     9467.000000  9498.000000                           9540\n",
       "mean      3.028463        2.949984     8.924352  2023-07-01 23:00:31.698113280\n",
       "min       1.000000        1.000000     1.000000            2023-01-01 00:00:00\n",
       "25%       2.000000        2.000000     4.000000            2023-04-01 00:00:00\n",
       "50%       3.000000        3.000000     8.000000            2023-07-02 00:00:00\n",
       "75%       4.000000        4.000000    12.000000            2023-10-02 00:00:00\n",
       "max       5.000000        5.000000    25.000000            2023-12-31 00:00:00\n",
       "std       1.419007        1.278450     6.009919                            NaN"
      ]
     },
     "execution_count": 17,
     "metadata": {},
     "output_type": "execute_result"
    }
   ],
   "source": [
    "df.describe()"
   ]
  },
  {
   "cell_type": "code",
   "execution_count": 24,
   "id": "4fbf9161-f20e-4fde-8e95-06f3b179ce49",
   "metadata": {},
   "outputs": [
    {
     "name": "stdout",
     "output_type": "stream",
     "text": [
      "     Transaction ID      Item  Quantity  Price Per Unit  Total Spent  \\\n",
      "0       TXN_1961373    Coffee       2.0             2.0          4.0   \n",
      "1       TXN_4977031      Cake       4.0             3.0         12.0   \n",
      "2       TXN_4271903    Cookie       4.0             1.0          NaN   \n",
      "3       TXN_7034554     Salad       2.0             5.0         10.0   \n",
      "4       TXN_3160411    Coffee       2.0             2.0          4.0   \n",
      "...             ...       ...       ...             ...          ...   \n",
      "9995    TXN_7672686    Coffee       2.0             2.0          4.0   \n",
      "9996    TXN_9659401       NaN       3.0             NaN          3.0   \n",
      "9997    TXN_5255387    Coffee       4.0             2.0          8.0   \n",
      "9998    TXN_7695629    Cookie       3.0             NaN          3.0   \n",
      "9999    TXN_6170729  Sandwich       3.0             4.0         12.0   \n",
      "\n",
      "      Payment Method  Location Transaction Date  Day  Month  Year  \n",
      "0        Credit Card  Takeaway       2023-09-08    8      9  2023  \n",
      "1               Cash  In-store       2023-05-16   16      5  2023  \n",
      "2        Credit Card  In-store       2023-07-19   19      7  2023  \n",
      "3                NaN       NaN       2023-04-27   27      4  2023  \n",
      "4     Digital Wallet  In-store       2023-06-11   11      6  2023  \n",
      "...              ...       ...              ...  ...    ...   ...  \n",
      "9995             NaN       NaN       2023-08-30   30      8  2023  \n",
      "9996  Digital Wallet       NaN       2023-06-02    2      6  2023  \n",
      "9997  Digital Wallet       NaN       2023-03-02    2      3  2023  \n",
      "9998  Digital Wallet       NaN       2023-12-02    2     12  2023  \n",
      "9999            Cash  In-store       2023-11-07    7     11  2023  \n",
      "\n",
      "[10000 rows x 11 columns]\n"
     ]
    }
   ],
   "source": [
    "# convert to datetime\n",
    "df['Transaction Date'] = pd.to_datetime(df['Transaction Date'], errors='coerce') \n",
    "# Create new columns\n",
    "df['Day'] = df['Transaction Date'].dt.day.astype('Int64')\n",
    "df['Month'] = df['Transaction Date'].dt.month.astype('Int64')\n",
    "df['Year'] = df['Transaction Date'].dt.year.astype('Int64')\n",
    "print(df)\n",
    "\n"
   ]
  },
  {
   "cell_type": "code",
   "execution_count": null,
   "id": "77f276dc-abd6-4dc8-a87f-36cebd40f4bd",
   "metadata": {},
   "outputs": [],
   "source": []
  }
 ],
 "metadata": {
  "kernelspec": {
   "display_name": "Python 3 (ipykernel)",
   "language": "python",
   "name": "python3"
  },
  "language_info": {
   "codemirror_mode": {
    "name": "ipython",
    "version": 3
   },
   "file_extension": ".py",
   "mimetype": "text/x-python",
   "name": "python",
   "nbconvert_exporter": "python",
   "pygments_lexer": "ipython3",
   "version": "3.13.5"
  }
 },
 "nbformat": 4,
 "nbformat_minor": 5
}
